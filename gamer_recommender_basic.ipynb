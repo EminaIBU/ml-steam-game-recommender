{
 "cells": [
  {
   "cell_type": "code",
   "execution_count": 1,
   "metadata": {},
   "outputs": [],
   "source": [
    "import pandas as pd\n",
    "from sklearn.feature_extraction.text import TfidfVectorizer\n",
    "from sklearn.metrics.pairwise import cosine_similarity\n",
    "from tabulate import tabulate\n",
    "\n",
    "#Load dataframe\n",
    "df = pd.read_csv('formattedSteamGames.csv')\n",
    "\n",
    "# Splitting categories and genres into lists\n",
    "df['categories'] = df['categories'].fillna('')\n",
    "df['genres'] = df['genres'].fillna('')\n",
    "df['steamspy_tags'] = df['steamspy_tags'].fillna('')\n",
    "\n",
    "df['combined_features'] = df['categories'].fillna('') + ';' + df['genres'].fillna('') + ';' + df['steamspy_tags'].fillna('')\n",
    "\n",
    "# Initialize the TfidfVectorizer with a custom tokenizer\n",
    "vectorizer = TfidfVectorizer(stop_words='english', tokenizer=lambda x: x.split(';'), token_pattern=None)\n",
    "tfidf_matrix = vectorizer.fit_transform(df['combined_features'])\n",
    "\n",
    "# Calculate the cosine similarity\n",
    "cosine_sim = cosine_similarity(tfidf_matrix, tfidf_matrix)\n"
   ]
  },
  {
   "cell_type": "code",
   "execution_count": 2,
   "metadata": {},
   "outputs": [],
   "source": [
    "def get_recommendations(game_name):\n",
    "    #Get the index of the game that matches the title\n",
    "    game_index = df[df['name'] == game_name].index[0]\n",
    "\n",
    "    #Get the pairwise similarity scores\n",
    "    sim_scores = list(enumerate(cosine_sim[game_index]))\n",
    "\n",
    "    #Sort the games based on the similarity scores\n",
    "    sim_scores = sorted(sim_scores, key=lambda x: x[1], reverse=True)\n",
    "\n",
    "    #Get Game Names and Game Distances separately since we will need data in that format\n",
    "    gameNames = []\n",
    "    gameDistances = []\n",
    "    for name, distance in sim_scores[1:11]:\n",
    "        gameNames.append(df['name'][name])\n",
    "        gameDistances.append(distance)\n",
    "\n",
    "    #Create list of distances and game names which will be used in response to create table\n",
    "    distancesAndGameNames = [gameDistances, gameNames]\n",
    "\n",
    "    return distancesAndGameNames"
   ]
  },
  {
   "cell_type": "code",
   "execution_count": 3,
   "metadata": {},
   "outputs": [
    {
     "name": "stdout",
     "output_type": "stream",
     "text": [
      "+-----------------------------------+-------------------+\n",
      "| Game Name                         |   Similarity  (%) |\n",
      "+===================================+===================+\n",
      "| Awesomenauts - the 2D moba        |             67.17 |\n",
      "| Games of Glory                    |             67.12 |\n",
      "| Strife®                           |             64.68 |\n",
      "| Prime World                       |             64.15 |\n",
      "| Iron League                       |             63.47 |\n",
      "| Heroes of SoulCraft - Arcade MOBA |             61.83 |\n",
      "| SMITE®                            |             60.66 |\n",
      "| Vainglory                         |             60.08 |\n",
      "| Bloodline Champions               |             56.21 |\n",
      "| Immortal Empire                   |             56.02 |\n",
      "+-----------------------------------+-------------------+\n"
     ]
    }
   ],
   "source": [
    "# Enter game name and get recommendation.\n",
    "# TODO: Create that user can enter game instead of this \n",
    "input_game = \"Dota 2\"\n",
    "returnedGamesAndDistances = get_recommendations(input_game)\n",
    "\n",
    "#Format response in table format.\n",
    "formattedResultList = []\n",
    "for similarity, name in zip(returnedGamesAndDistances[0], returnedGamesAndDistances[1]):\n",
    "    formattedResultList.append([name, \"{:.2f}\".format((similarity) * 100)])\n",
    "\n",
    "#Print similar games\n",
    "print(tabulate(formattedResultList, headers=['Game Name', 'Similarity  (%)'], tablefmt=\"outline\"))"
   ]
  },
  {
   "cell_type": "markdown",
   "metadata": {},
   "source": [
    "# Calculate Diversity"
   ]
  },
  {
   "cell_type": "code",
   "execution_count": null,
   "metadata": {},
   "outputs": [],
   "source": [
    "#Utility matrix calculated \n",
    "formattedSimilaritiesDf = pd.DataFrame(cosine_sim, columns=df['name'], index=df['name']).reset_index()"
   ]
  },
  {
   "cell_type": "code",
   "execution_count": null,
   "metadata": {},
   "outputs": [
    {
     "name": "stdout",
     "output_type": "stream",
     "text": [
      "Calculated diversity: 0.7982115286979914\n"
     ]
    }
   ],
   "source": [
    "#Diversity\n",
    "#NOTE: We are using 1-cosine_sim in this case since we calculated cosine_similarity and not the cosine distance\n",
    "diversity = 1 - cosine_sim.mean()\n",
    "print(\"Calculated diversity: \" + str(diversity))"
   ]
  }
 ],
 "metadata": {
  "kernelspec": {
   "display_name": "Python 3",
   "language": "python",
   "name": "python3"
  },
  "language_info": {
   "codemirror_mode": {
    "name": "ipython",
    "version": 3
   },
   "file_extension": ".py",
   "mimetype": "text/x-python",
   "name": "python",
   "nbconvert_exporter": "python",
   "pygments_lexer": "ipython3",
   "version": "3.11.0"
  }
 },
 "nbformat": 4,
 "nbformat_minor": 2
}
