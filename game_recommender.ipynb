{
 "cells": [
  {
   "cell_type": "code",
   "execution_count": 1,
   "metadata": {},
   "outputs": [],
   "source": [
    "import pandas as pd\n",
    "from sklearn.neighbors import NearestNeighbors\n",
    "from sklearn.preprocessing import MultiLabelBinarizer\n",
    "from scipy import spatial\n",
    "from tabulate import tabulate\n",
    "\n",
    "def get_distance(game1, game2):\n",
    "    #Take array index 0 to 29 values for genres_similarity since these are genres.\n",
    "    #List starts with index 0, so we are taking 0 to 29 since 29th will not be taken \n",
    "    genres_similarity = spatial.distance.cosine(game1[:29], game2[:29])\n",
    "    \n",
    "    #Take 29 to 58 values for categories_similarity since these are categories\n",
    "    categories_similarity = spatial.distance.cosine(game1[29:58], game2[29:58])\n",
    "\n",
    "    #Take 58 to 397 values for Steam Tags\n",
    "    tags_similarity = spatial.distance.cosine(game1[58:397], game2[58:397])\n",
    "\n",
    "    #Custom indices (TEI, PAI, ACI, GNI) parameters\n",
    "    time_engaged_similarity = spatial.distance.cosine(game1[397:407], game2[397:407])\n",
    "    player_acclaim_similarity = spatial.distance.cosine(game1[407:417], game2[407:417])\n",
    "    adopters_choice_similarity = spatial.distance.cosine(game1[417:427], game2[417:427])\n",
    "    game_nexus_similarity = spatial.distance.cosine(game1[427:437], game2[427:437])\n",
    "    \n",
    "    # Apply weights\n",
    "    weighted_distance = (0.05 * tags_similarity) + (0.3 * genres_similarity) + (0.05 * categories_similarity) + (0.6 * game_nexus_similarity)\n",
    "\n",
    "    return weighted_distance\n",
    "\n",
    "# --------------------------------------- Recommender --------------------------------------- #\n",
    "#Load dataframe\n",
    "df = pd.read_csv('formattedSteamGames.csv')\n",
    "\n",
    "# Splitting categories and genres into lists\n",
    "df['categories'] = df['categories'].fillna('').str.split(';')\n",
    "df['genres'] = df['genres'].fillna('').str.split(';')\n",
    "df['steamspy_tags'] = df['steamspy_tags'].fillna('').str.split(';')\n",
    "\n",
    "# Creating one-hot encoded vectors for categories and genres\n",
    "mlb = MultiLabelBinarizer()\n",
    "categories_encoded = pd.DataFrame(mlb.fit_transform(df['categories']), columns=mlb.classes_, index=df.index)\n",
    "genres_encoded = pd.DataFrame(mlb.fit_transform(df['genres']), columns=mlb.classes_, index=df.index)\n",
    "steamspy_tags_encoded = pd.DataFrame(mlb.fit_transform(df['steamspy_tags']), columns=mlb.classes_, index=df.index)\n",
    "time_engaged_category_encoded = pd.get_dummies(df['time_engaged_category'], prefix='tec', dtype=int)\n",
    "player_acclaim_category_encoded = pd.get_dummies(df['player_acclaim_category'], prefix='pac', dtype=int)\n",
    "adopters_choice_category_encoded = pd.get_dummies(df['adopters_choice_category'], prefix='acc', dtype=int)\n",
    "game_nexus_category_encoded = pd.get_dummies(df['game_nexus_category'], prefix='gnc', dtype=int)\n",
    "\n",
    "# Concatenating encoded columns with original DataFrame\n",
    "df_encoded = pd.concat([df['name'], categories_encoded, genres_encoded, steamspy_tags_encoded, time_engaged_category_encoded, player_acclaim_category_encoded, adopters_choice_category_encoded, game_nexus_category_encoded], axis=1)\n",
    "\n",
    "# Creating feature vectors by combining encoded categories and genres\n",
    "feature_vectors = pd.concat([categories_encoded, genres_encoded, steamspy_tags_encoded, time_engaged_category_encoded, player_acclaim_category_encoded, adopters_choice_category_encoded, game_nexus_category_encoded], axis=1)\n",
    "\n",
    "# Instantiate and fit the KNN model\n",
    "knn_model = NearestNeighbors(n_neighbors=11, metric=get_distance)\n",
    "knn_model.fit(feature_vectors.values)\n",
    "\n",
    "\n",
    "# Function to get recommendations for a given game name\n",
    "def get_recommendations(game_name):\n",
    "\n",
    "    #For the game name we passed to function, we will find it's index from DataFrame\n",
    "    game_index = df[df['name'] == game_name].index[0]\n",
    "\n",
    "    #Get distances and indices for selected game index.\n",
    "    distances, indices = knn_model.kneighbors([feature_vectors.iloc[game_index]])\n",
    "     \n",
    "    #Get simillar game names and exclude the input game itself\n",
    "    similar_game_names = df.iloc[indices[0][1:]]['name'].astype(str).values.tolist()\n",
    "    \n",
    "    #Get simillar game distances and exclude the input game itself\n",
    "    similar_game_distances = distances[0][1:].tolist()\n",
    "\n",
    "    #Create list of distances and game names which will be used in response to create table\n",
    "    distancesAndGameNames = [similar_game_distances, similar_game_names]\n",
    "\n",
    "    return distancesAndGameNames\n"
   ]
  },
  {
   "cell_type": "code",
   "execution_count": 2,
   "metadata": {},
   "outputs": [
    {
     "name": "stdout",
     "output_type": "stream",
     "text": [
      "+----------------------------------+-------------------+\n",
      "| Game Name                        |   Similarity  (%) |\n",
      "+==================================+===================+\n",
      "| Line of Sight                    |             84.6  |\n",
      "| Warframe                         |             84.27 |\n",
      "| Counter-Strike: Global Offensive |             84.13 |\n",
      "| Dropzone                         |             83.7  |\n",
      "| Atlas Reactor                    |             82.63 |\n",
      "| Creativerse                      |             82.61 |\n",
      "| Killing Floor 2                  |             82.53 |\n",
      "| Awesomenauts - the 2D moba       |             82.36 |\n",
      "| Insurgency                       |             82.23 |\n",
      "| Team Fortress 2                  |             82.12 |\n",
      "+----------------------------------+-------------------+\n"
     ]
    }
   ],
   "source": [
    "# Enter game name and get recommendation.\n",
    "# TODO: Create that user can enter game instead of this \n",
    "selected_game = \"Dota 2\"\n",
    "returnedGamesAndDistances = get_recommendations(selected_game)\n",
    "\n",
    "#Format response in table format.\n",
    "formattedResultList = []\n",
    "for similarity, name in zip(returnedGamesAndDistances[0], returnedGamesAndDistances[1]):\n",
    "    formattedResultList.append([name, \"{:.2f}\".format((1 - similarity) * 100)])\n",
    "\n",
    "#Print similar games\n",
    "print(tabulate(formattedResultList, headers=['Game Name', 'Similarity  (%)'], tablefmt=\"outline\"))"
   ]
  },
  {
   "cell_type": "markdown",
   "metadata": {},
   "source": [
    "# Calculate Diversity"
   ]
  },
  {
   "cell_type": "code",
   "execution_count": null,
   "metadata": {},
   "outputs": [],
   "source": [
    "# Create an empty utility matrix with the same index and columns as our feature_vectors\n",
    "num_games = len(feature_vectors)\n",
    "utility_matrix = pd.DataFrame(index=feature_vectors.index, columns=feature_vectors.index)"
   ]
  },
  {
   "cell_type": "code",
   "execution_count": null,
   "metadata": {},
   "outputs": [],
   "source": [
    "# Iterate through each pair of games and calculate the distance using get_distance function\n",
    "# NOTE: This job is very difficult and time consuming for running. Run it on some cloud provider\n",
    "for i in range(num_games):\n",
    "    for j in range(num_games):\n",
    "        if i != j:\n",
    "            game1 = feature_vectors.iloc[i].values\n",
    "            game2 = feature_vectors.iloc[j].values\n",
    "\n",
    "            # Calculate distance using your get_distance function\n",
    "            dist = get_distance(game1, game2)\n",
    "\n",
    "            # Assign the distance to the utility matrix\n",
    "            utility_matrix.iloc[i, j] = dist"
   ]
  },
  {
   "cell_type": "code",
   "execution_count": null,
   "metadata": {},
   "outputs": [],
   "source": [
    "#Calculate diversity\n",
    "diversity = utility_matrix.mean().mean()\n",
    "print(diversity)"
   ]
  }
 ],
 "metadata": {
  "kernelspec": {
   "display_name": "Python 3",
   "language": "python",
   "name": "python3"
  },
  "language_info": {
   "codemirror_mode": {
    "name": "ipython",
    "version": 3
   },
   "file_extension": ".py",
   "mimetype": "text/x-python",
   "name": "python",
   "nbconvert_exporter": "python",
   "pygments_lexer": "ipython3",
   "version": "3.11.0"
  }
 },
 "nbformat": 4,
 "nbformat_minor": 2
}
